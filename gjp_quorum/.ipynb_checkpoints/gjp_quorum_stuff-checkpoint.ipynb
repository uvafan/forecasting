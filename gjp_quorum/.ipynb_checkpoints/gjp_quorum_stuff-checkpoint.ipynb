{
 "cells": [
  {
   "cell_type": "code",
   "execution_count": 4,
   "metadata": {},
   "outputs": [
    {
     "data": {
      "text/plain": [
       "{'france': [1, 2, 44, 216, 1067, 2701, 6837, 6298, 4173, 2747],\n",
       " 'italy': [12, 95, 720, 2151, 4525, 5652, 4514, 3976, 3440, 2597],\n",
       " 'japan': [2, 3, 9, 14, 16, 12, 37, 84, 121, 114],\n",
       " 'sk': [12, 23, 25, 24, 42, 39, 35, 25, 13, 8],\n",
       " 'spain': [0, 0, 17, 277, 1478, 5031, 5838, 4568, 3244, 2737],\n",
       " 'us': [0, 11, 27, 133, 1089, 5134, 11297, 15021, 15182, 13761]}"
      ]
     },
     "execution_count": 4,
     "metadata": {},
     "output_type": "execute_result"
    }
   ],
   "source": [
    "import pandas as pd\n",
    "\n",
    "def get_weekly_curve(country, col):\n",
    "    df = pd.read_csv(f'../data/worldometers/{country}.csv')\n",
    "    weekly_amts = []\n",
    "    for week_end in range(len(df)-1, 6, -7):\n",
    "        weekly_amts.append(df.at[week_end,col] - df.at[week_end-7,col])\n",
    "    return list(reversed(weekly_amts))\n",
    "\n",
    "countries = ['france','italy','japan','sk','spain','us']\n",
    "\n",
    "country_curves = {}\n",
    "for country in countries:\n",
    "    country_curves[country] = get_weekly_deaths(country)\n",
    "\n",
    "print(country_curves)"
   ]
  }
 ],
 "metadata": {
  "kernelspec": {
   "display_name": "Python 3",
   "language": "python",
   "name": "python3"
  },
  "language_info": {
   "codemirror_mode": {
    "name": "ipython",
    "version": 3
   },
   "file_extension": ".py",
   "mimetype": "text/x-python",
   "name": "python",
   "nbconvert_exporter": "python",
   "pygments_lexer": "ipython3",
   "version": "3.8.2"
  }
 },
 "nbformat": 4,
 "nbformat_minor": 2
}
